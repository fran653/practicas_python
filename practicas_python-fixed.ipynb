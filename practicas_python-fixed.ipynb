{
 "cells": [
  {
   "cell_type": "code",
   "execution_count": null,
   "metadata": {},
   "outputs": [],
   "source": [
    "for x in range(1, 10, 3):\n",
    "    print(x)"
   ]
  },
  {
   "cell_type": "code",
   "execution_count": null,
   "metadata": {},
   "outputs": [],
   "source": [
    "x = 1\n",
    "total = 0\n",
    "while x <= 10:\n",
    "    total += x\n",
    "    x += 1\n",
    "print(total)  # Should print 55"
   ]
  },
  {
   "cell_type": "code",
   "execution_count": null,
   "metadata": {},
   "outputs": [],
   "source": [
    "def odd_numbers(maximum):\n",
    "    return_string = \"\"  # Initialize as string\n",
    "    for number in range(1, maximum + 1):  # Include maximum\n",
    "        if number % 2 != 0:  # Check for odd numbers\n",
    "            return_string += str(number) + \" \"\n",
    "    return return_string.strip()  # Remove trailing space\n",
    "\n",
    "print(odd_numbers(6))   # Should be \"1 3 5\"\n",
    "print(odd_numbers(10))  # Should be \"1 3 5 7 9\"\n",
    "print(odd_numbers(1))   # Should be \"1\"\n",
    "print(odd_numbers(3))   # Should be \"1 3\"\n",
    "print(odd_numbers(0))   # Should be \"\""
   ]
  },
  {
   "cell_type": "code",
   "execution_count": null,
   "metadata": {},
   "outputs": [],
   "source": [
    "import shutil\n",
    "du = shutil.disk_usage(\"/\")\n",
    "print(du)"
   ]
  },
  {
   "cell_type": "code",
   "execution_count": null,
   "metadata": {},
   "outputs": [],
   "source": [
    "años = ['ene 23', 'feb 24', 'mar 25', 'abr 24', 'may 24', 'jun 20', 'jul 24', 'ago 24', 'sep 45', 'oct 24', 'nov 25', 'dic 24']\n",
    "actualizados = [año.replace('24', '25') if año[-2:] == '24' else año for año in años]\n",
    "print(actualizados)"
   ]
  },
  {
   "cell_type": "code",
   "execution_count": null,
   "metadata": {},
   "outputs": [],
   "source": [
    "filenames = [\"program.c\", \"stdio.hpp\", \"sample.hpp\", \"a.out\", \"math.hpp\", \"hpp.out\"]\n",
    "new_filenames = [filename[:-3] + \"h\" if filename.endswith(\".hpp\") else filename for filename in filenames]\n",
    "print(new_filenames)  # Should be [\"program.c\", \"stdio.h\", \"sample.h\", \"a.out\", \"math.h\", \"hpp.out\"]"
   ]
  },
  {
   "cell_type": "code",
   "execution_count": null,
   "metadata": {},
   "outputs": [],
   "source": [
    "def pig_latin(text):\n",
    "    words = text.split()\n",
    "    pigwords = [word[1:] + word[0] + 'ay' for word in words]\n",
    "    return ' '.join(pigwords)\n",
    "\n",
    "print(pig_latin(\"hello how are you\"))  # Should be \"ellohay owhay reaay ouyay\"\n",
    "print(pig_latin(\"programming in python is fun\"))  # Should be \"rogrammingpay niay ythonpay siay unfay\""
   ]
  },
  {
   "cell_type": "code",
   "execution_count": null,
   "metadata": {},
   "outputs": [],
   "source": [
    "def count_letters(text):\n",
    "    result = {}\n",
    "    for letter in text:\n",
    "        if letter.isalpha():  # Count only letters\n",
    "            result[letter] = result.get(letter, 0) + 1\n",
    "    return result\n",
    "\n",
    "print(count_letters('hostifgdfgsdfgas'))  # Example output: {'h': 1, 'o': 1, 's': 3, 't': 1, 'i': 1, 'f': 3, 'g': 3, 'd': 2, 'a': 1}"
   ]
  },
  {
   "cell_type": "code",
   "execution_count": null,
   "metadata": {},
   "outputs": [],
   "source": [
    "myDictionary = {'apple': 1, 'banana': 2, 'orange': 3}\n",
    "key = 'banasna'\n",
    "if key in myDictionary:\n",
    "    print(f\"The value of {key} is {myDictionary[key]}\")\n",
    "else:\n",
    "    print(f\"{key} is not found in the dictionary\")"
   ]
  },
  {
   "cell_type": "code",
   "execution_count": null,
   "metadata": {},
   "outputs": [],
   "source": [
    "def email_list(domains):\n",
    "    emails = []\n",
    "    for domain, users in domains.items():\n",
    "        for user in users:\n",
    "            emails.append(user + \"@\" + domain)\n",
    "    return emails\n",
    "\n",
    "print(email_list({\"gmail.com\": [\"clark.kent\", \"diana.prince\", \"peter.parker\"], \"yahoo.com\": [\"barbara.gordon\", \"jean.grey\"], \"hotmail.com\": [\"bruce.wayne\"]}))"
   ]
  },
  {
   "cell_type": "code",
   "execution_count": null,
   "metadata": {},
   "outputs": [],
   "source": [
    "music_genres = [\"rock\", \"pop\", \"country\"]\n",
    "music_genres.append(\"blues\")\n",
    "print(music_genres)  # Should be [\"rock\", \"pop\", \"country\", \"blues\"]"
   ]
  },
  {
   "cell_type": "code",
   "execution_count": null,
   "metadata": {},
   "outputs": [],
   "source": [
    "with open('mierlistado.txt', 'w') as file:\n",
    "    listado = ['putas', 'lumis', 'perras', 'zorras', 'guarras']\n",
    "    for i in listado:\n",
    "        file.write(i + '\\n')"
   ]
  },
  {
   "cell_type": "code",
   "execution_count": null,
   "metadata": {},
   "outputs": [],
   "source": [
    "import csv\n",
    "\n",
    "# Sample data to avoid dependency on external file\n",
    "sample_data = [\n",
    "    [\"Numeración\", \"X\", \"Y\", \"Z\"],\n",
    "    [\"\", \"X\", \"Y\", \"Z\"],\n",
    "    [\"SC-4003\", \"413315\", \"4390721\", \"25\"],\n",
    "    [\"SC-1001\", \"412711\", \"4387557\", \"46\"]\n",
    "]\n",
    "\n",
    "with open('OBJ_temp.txt', 'w', newline='') as f:\n",
    "    writer = csv.writer(f)\n",
    "    writer.writerows(sample_data)\n",
    "\n",
    "try:\n",
    "    with open('OBJ_temp.txt', encoding='utf-8') as f:\n",
    "        csv_f = csv.reader(f)\n",
    "        i = 0\n",
    "        for row in csv_f:\n",
    "            numeración, x, y, z = row\n",
    "            print(f'Objetivo{i} {numeración}: X: {x}, Y: {y}, Z: {z}')\n",
    "            i += 1\n",
    "except FileNotFoundError:\n",
    "    print(\"File not found.\")"
   ]
  },
  {
   "cell_type": "code",
   "execution_count": null,
   "metadata": {},
   "outputs": [],
   "source": [
    "import csv\n",
    "\n",
    "hosts = [['pollaitor', '192.168.25.36'], ['servidor.de.mierda', '10.2.5.6']]\n",
    "with open('host.csv', 'w', newline='') as host_csv:\n",
    "    writer = csv.writer(host_csv)\n",
    "    writer.writerows(hosts)"
   ]
  },
  {
   "cell_type": "code",
   "execution_count": null,
   "metadata": {},
   "outputs": [],
   "source": [
    "import csv\n",
    "\n",
    "users = [\n",
    "    {\"name\": \"Sol Mansi\", \"username\": \"solm\", \"department\": \"IT infrastructure\"},\n",
    "    {\"name\": \"Lio Nelson\", \"username\": \"lion\", \"department\": \"User Experience Research\"},\n",
    "    {\"name\": \"Charlie Grey\", \"username\": \"greyc\", \"department\": \"Development\"}\n",
    "]\n",
    "keys = [\"name\", \"username\", \"department\"]\n",
    "with open('by_department.csv', 'w', newline='') as ordenado_dpto:\n",
    "    writer = csv.DictWriter(ordenado_dpto, fieldnames=keys)\n",
    "    writer.writeheader()\n",
    "    writer.writerows(users)"
   ]
  },
  {
   "cell_type": "code",
   "execution_count": null,
   "metadata": {},
   "outputs": [],
   "source": [
    "import csv\n",
    "\n",
    "# Sample data to avoid dependency on external file\n",
    "sample_software = [\n",
    "    {\"name\": \"Mailtree\", \"users\": \"324\", \"status\": \"production\", \"version\": \"5.34\"},\n",
    "    {\"name\": \"Caldoor\", \"users\": \"22\", \"status\": \"beta\", \"version\": \"1.25\"},\n",
    "    {\"name\": \"Chatty Chicken\", \"users\": \"4\", \"status\": \"alpha\", \"version\": \"0.34\"}\n",
    "]\n",
    "\n",
    "with open('software_temp.csv', 'w', newline='') as f:\n",
    "    writer = csv.DictWriter(f, fieldnames=[\"name\", \"users\", \"status\", \"version\"])\n",
    "    writer.writeheader()\n",
    "    writer.writerows(sample_software)\n",
    "\n",
    "with open('software_temp.csv') as software:\n",
    "    reader = csv.DictReader(software)\n",
    "    for row in reader:\n",
    "        print(f\"{row['name']} has {row['users']} users, being given it is on {row['status']} status on version {row['version']} as today\")"
   ]
  },
  {
   "cell_type": "code",
   "execution_count": null,
   "metadata": {},
   "outputs": [],
   "source": [
    "import os\n",
    "import csv\n",
    "\n",
    "def create_file(filename):\n",
    "    with open(filename, \"w\", newline='') as file:\n",
    "        file.write(\"name,color,type\\n\")\n",
    "        file.write(\"carnation,pink,annual\\n\")\n",
    "        file.write(\"daffodil,yellow,perennial\\n\")\n",
    "        file.write(\"iris,blue,perennial\\n\")\n",
    "        file.write(\"poinsettia,red,perennial\\n\")\n",
    "        file.write(\"sunflower,yellow,annual\\n\")\n",
    "\n",
    "def contents_of_file(filename):\n",
    "    return_string = \"\"\n",
    "    create_file(filename)\n",
    "    with open(filename) as archivo:\n",
    "        rows = csv.reader(archivo)\n",
    "        next(rows)  # Skip header\n",
    "        for row in rows:\n",
    "            name, color, season = row\n",
    "            return_string += f\"a {name} {color} is {season}\\n\"\n",
    "    return return_string\n",
    "\n",
    "print(contents_of_file(\"flowers.csv\"))"
   ]
  },
  {
   "cell_type": "code",
   "execution_count": null,
   "metadata": {},
   "outputs": [],
   "source": [
    "cuadrados_pares = [x**2 for x in range(1, 11) if x % 2 == 0]\n",
    "print(cuadrados_pares)  # Should be [4, 16, 36, 64, 100]"
   ]
  },
  {
   "cell_type": "code",
   "execution_count": null,
   "metadata": {},
   "outputs": [],
   "source": [
    "cuadrados_impares = [x**2 for x in range(1, 11) if x % 2 != 0]\n",
    "print(cuadrados_impares)  # Should be [1, 9, 25, 49, 81]"
   ]
  },
  {
   "cell_type": "code",
   "execution_count": null,
   "metadata": {},
   "outputs": [],
   "source": [
    "matriz = [[1, 2, 3], [4, 5, 6], [7, 8, 9]]\n",
    "plana = [num for fila in matriz for num in fila]\n",
    "print(plana)  # Should be [1, 2, 3, 4, 5, 6, 7, 8, 9]"
   ]
  },
  {
   "cell_type": "code",
   "execution_count": null,
   "metadata": {},
   "outputs": [],
   "source": [
    "cadena = \"AALorem ipsum dolor sit amet, consectetur adipiscing elit\"\n",
    "vocales = [x for x in cadena.lower() if x in 'aeiou']\n",
    "print(vocales)  # Should be ['a', 'a', 'o', 'e', 'i', 'u', 'o', 'o', 'i', 'a', 'e', 'o', 'e', 'e', 'u', 'a', 'i', 'i', 'i', 'e', 'i']"
   ]
  },
  {
   "cell_type": "code",
   "execution_count": null,
   "metadata": {},
   "outputs": [],
   "source": [
    "celsius = [0, 10, 20, 30, 40, 50]\n",
    "fahrenheit = [(temp * 9/5) + 32 for temp in celsius]\n",
    "print(fahrenheit)  # Should be [32.0, 50.0, 68.0, 86.0, 104.0, 122.0]"
   ]
  },
  {
   "cell_type": "code",
   "execution_count": null,
   "metadata": {},
   "outputs": [],
   "source": [
    "matriz_identidad = [[1 if i == j else 0 for i in range(3)] for j in range(3)]\n",
    "print(matriz_identidad)  # Should be [[1, 0, 0], [0, 1, 0], [0, 0, 1]]"
   ]
  },
  {
   "cell_type": "code",
   "execution_count": null,
   "metadata": {},
   "outputs": [],
   "source": [
    "doble = lambda x: x * 2\n",
    "print(doble(5))  # Should be 10"
   ]
  },
  {
   "cell_type": "code",
   "execution_count": null,
   "metadata": {},
   "outputs": [],
   "source": [
    "numeros = [1, 2, 3, 4, 5]\n",
    "resultado = list(map(lambda x: x**2, numeros))\n",
    "print(resultado)  # Should be [1, 4, 9, 16, 25]"
   ]
  },
  {
   "cell_type": "code",
   "execution_count": null,
   "metadata": {},
   "outputs": [],
   "source": [
    "import re\n",
    "pattern = 'pollón'\n",
    "text = '''Tengo un gran problema desde que nací\n",
    "Y siempre lo llevo muy dentro de mí\n",
    "Es algo que abulta y que pesa un montón\n",
    "Es lo que se suele llamar un pollón\n",
    "Deepthroat es lo que quiero\n",
    "Amor a un pollón soltero\n",
    "[Puente]\n",
    "Amor a un pollón soltero'''\n",
    "result = re.search(pattern, text)\n",
    "if result:\n",
    "    print('La palabra buscada existe! Quién lo diría?')\n",
    "    print(result.group())\n",
    "    print(f'la palabra empieza en {result.start()} y termina en {result.end()}')\n",
    "matches = re.findall(pattern, text)\n",
    "print(len(matches))\n",
    "nuevo_texto = re.sub(pattern, 'pollónnnnnnnnnnnnnnnnnnnn', text)\n",
    "print(nuevo_texto)"
   ]
  },
  {
   "cell_type": "code",
   "execution_count": null,
   "metadata": {},
   "outputs": [],
   "source": [
    "import re\n",
    "texto = 'Libre, como aquel que huele a 1 cuero \\n yo soy libre, y vengo del mar\\t'\n",
    "pattern = r'\\s'\n",
    "found = re.findall(pattern, texto)\n",
    "print(found)  # Should print list of whitespace characters"
   ]
  },
  {
   "cell_type": "code",
   "execution_count": null,
   "metadata": {},
   "outputs": [],
   "source": [
    "import re\n",
    "text = 'dddd aaa 5532ccc a bb aa casa'\n",
    "pattern = r'\\w{2,4}'\n",
    "matches = re.findall(pattern, text)\n",
    "print(matches)  # Should be ['dddd', 'aaa', '5532', 'ccc', 'bb', 'aa', 'casa']"
   ]
  },
  {
   "cell_type": "code",
   "execution_count": null,
   "metadata": {},
   "outputs": [],
   "source": [
    "def sumar(a, b):\n",
    "    return a + b\n",
    "\n",
    "resultado_funcion = sumar(8, 5)\n",
    "print(f'El resultado es: {resultado_funcion}')  # Should be 13"
   ]
  },
  {
   "cell_type": "code",
   "execution_count": null,
   "metadata": {},
   "outputs": [],
   "source": [
    "class Animal:\n",
    "    def comer(self):\n",
    "        print('ñam ñam')\n",
    "    def dormir(self):\n",
    "        print('zzZZzzZZ')\n",
    "    def sonido(self):\n",
    "        print('**GRRR**_Genérico_')\n",
    "\n",
    "class Gato(Animal):\n",
    "    def sonido(self):\n",
    "        print('marramamiaumiaumiau')\n",
    "\n",
    "def sonido_monstruoso(bestia):\n",
    "    bestia.sonido()\n",
    "\n",
    "gato1 = Gato()\n",
    "sonido_monstruoso(gato1)  # Should print 'marramamiaumiaumiau'"
   ]
  },
  {
   "cell_type": "code",
   "execution_count": null,
   "metadata": {},
   "outputs": [],
   "source": [
    "class Persona:\n",
    "    def __init__(self, nombre, apellido):\n",
    "        self.nombre = nombre\n",
    "        self.apellido = apellido\n",
    "    def __str__(self):\n",
    "        return f'''Persona:\n",
    "        nombre = {self.nombre}\n",
    "        apellido = {self.apellido}\n",
    "        dir_memo = {id(self)}'''\n",
    "\n",
    "persona1 = Persona('Topot', 'Sama')\n",
    "print(persona1)"
   ]
  },
  {
   "cell_type": "code",
   "execution_count": null,
   "metadata": {},
   "outputs": [],
   "source": [
    "class Dispositivo_entrada:\n",
    "    def __init__(self, marca, tipo_entrada):\n",
    "        self.marca = marca\n",
    "        self.tipo_entrada = tipo_entrada\n",
    "\n",
    "class Raton(Dispositivo_entrada):\n",
    "    contador_ratones = 0\n",
    "    def __init__(self, marca, tipo_entrada):\n",
    "        Raton.contador_ratones += 1\n",
    "        self.id_raton = Raton.contador_ratones\n",
    "        super().__init__(marca, tipo_entrada)\n",
    "    def __str__(self):\n",
    "        return f'Id: {self.id_raton}, Marca: {self.marca}, Tipo Entrada: {self.tipo_entrada}'\n",
    "\n",
    "class Teclado(Dispositivo_entrada):\n",
    "    contador_teclados = 0\n",
    "    def __init__(self, marca, tipo_entrada):\n",
    "        Teclado.contador_teclados += 1\n",
    "        self.id_teclado = Teclado.contador_teclados\n",
    "        super().__init__(marca, tipo_entrada)\n",
    "    def __str__(self):\n",
    "        return f'Id: {self.id_teclado}, Marca: {self.marca}, Tipo Entrada: {self.tipo_entrada}'\n",
    "\n",
    "class Monitor:\n",
    "    contador_monitores = 0\n",
    "    def __init__(self, marca, tamanio):\n",
    "        Monitor.contador_monitores += 1\n",
    "        self.id_monitor = Monitor.contador_monitores\n",
    "        self.marca = marca\n",
    "        self.tamanio = tamanio\n",
    "    def __str__(self):\n",
    "        return f'Id: {self.id_monitor}, Marca: {self.marca}, Tamaño: {self.tamanio}'\n",
    "\n",
    "class Computadora:\n",
    "    contador_computadoras = 0\n",
    "    def __init__(self, nombre, monitor, teclado, raton):\n",
    "        Computadora.contador_computadoras += 1\n",
    "        self.id_computadora = Computadora.contador_computadoras\n",
    "        self.nombre = nombre\n",
    "        self.monitor = monitor\n",
    "        self.teclado = teclado\n",
    "        self.raton = raton\n",
    "    def __str__(self):\n",
    "        return f'''{self.nombre}: {self.id_computadora}\n",
    "        Monitor: {self.monitor}\n",
    "        Teclado: {self.teclado}\n",
    "        Raton: {self.raton}'''\n",
    "\n",
    "class Orden:\n",
    "    contador_ordenes = 0\n",
    "    def __init__(self, lista_computadoras):\n",
    "        Orden.contador_ordenes += 1\n",
    "        self.id_orden = Orden.contador_ordenes\n",
    "        self.computadoras = lista_computadoras\n",
    "    def __str__(self):\n",
    "        computadoras_str = '\\n'.join([comp.__str__() for comp in self.computadoras])\n",
    "        return f'''Orden número: {self.id_orden}\n",
    "        Computadoras:\n",
    "        {computadoras_str}'''\n",
    "\n",
    "raton1 = Raton('HP', 'USB')\n",
    "teclado1 = Teclado('HP', 'Ortoconectado')\n",
    "monitor1 = Monitor('HijoPuta', 15)\n",
    "computadora1 = Computadora('POLLOMETRO', monitor1, teclado1, raton1)\n",
    "\n",
    "raton2 = Raton('Logitech', 'cable')\n",
    "teclado2 = Teclado('Razer', 'BlueTooth')\n",
    "monitor2 = Monitor('Dell', 27)\n",
    "computadora2 = Computadora('PisaPapelez', monitor2, teclado2, raton2)\n",
    "\n",
    "orden1 = Orden([computadora1, computadora2])\n",
    "print(orden1)"
   ]
  },
  {
   "cell_type": "code",
   "execution_count": null,
   "metadata": {},
   "outputs": [],
   "source": [
    "import re\n",
    "\n",
    "def rearrange_name(name):\n",
    "    result = re.search(r'([\\w\\s]+), ([\\w\\s.-]+)', name)\n",
    "    if result is None:\n",
    "        return name\n",
    "    return f'{result.group(2)}, {result.group(1)}'\n",
    "\n",
    "print(rearrange_name('Yepper, Ellis'))  # Should be \"Ellis, Yepper\"\n",
    "print(rearrange_name('Mr.Topot,Sama'))  # Should be \"Sama, Mr.Topot\"\n",
    "print(rearrange_name('Pollón'))  # Should be \"Pollón\""
   ]
  },
  {
   "cell_type": "code",
   "execution_count": null,
   "metadata": {},
   "outputs": [],
   "source": [
    "import re\n",
    "print(re.findall(r'\\b[a-zA-Z]{5}\\b', 'un gran vergazo que te va a dejar ciego'))  # Should be ['dejar', 'ciego']"
   ]
  },
  {
   "cell_type": "code",
   "execution_count": null,
   "metadata": {},
   "outputs": [],
   "source": [
    "import re\n",
    "\n",
    "def extract_PID(log):\n",
    "    regex = r'\\[(\\d+)\\]'\n",
    "    result = re.search(regex, log)\n",
    "    if result:\n",
    "        return result[1]\n",
    "    return 'no hay'\n",
    "\n",
    "log = 'July 31 07:51:23 -0700 2003 my computer bad_process[12345]: Error Performing package upgrade'\n",
    "print(extract_PID(log))  # Should be \"12345\"\n",
    "print(extract_PID('un mojón pa ti'))  # Should be \"no hay\""
   ]
  },
  {
   "cell_type": "code",
   "execution_count": 1,
   "metadata": {},
   "outputs": [
    {
     "name": "stdout",
     "output_type": "stream",
     "text": [
      "my email is [REDACTED]\n"
     ]
    }
   ],
   "source": [
    "import re\n",
    "log = 'my email is pollasde3aguas@ungranmojon.co.uk'\n",
    "print(re.sub(r'[\\w.%+-]+@[\\w.-]+', '[REDACTED]', log))  # Should be \"my email is [REDACTED]\""
   ]
  },
  {
   "cell_type": "code",
   "execution_count": 2,
   "metadata": {},
   "outputs": [
    {
     "name": "stdout",
     "output_type": "stream",
     "text": [
      "actual\n"
     ]
    }
   ],
   "source": [
    "print(['what','the','actual','fuck'][2])"
   ]
  },
  {
   "cell_type": "code",
   "execution_count": null,
   "metadata": {},
   "outputs": [],
   "source": []
  }
 ],
 "metadata": {
  "kernelspec": {
   "display_name": "Python 3",
   "language": "python",
   "name": "python3"
  },
  "language_info": {
   "codemirror_mode": {
    "name": "ipython",
    "version": 3
   },
   "file_extension": ".py",
   "mimetype": "text/x-python",
   "name": "python",
   "nbconvert_exporter": "python",
   "pygments_lexer": "ipython3",
   "version": "3.12.9"
  }
 },
 "nbformat": 4,
 "nbformat_minor": 2
}

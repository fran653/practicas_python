{
 "cells": [
  {
   "cell_type": "code",
   "execution_count": 1,
   "metadata": {},
   "outputs": [
    {
     "name": "stdout",
     "output_type": "stream",
     "text": [
      "1\n",
      "4\n",
      "7\n"
     ]
    }
   ],
   "source": [
    "for x in range(1, 10, 3):\n",
    "    print(x)"
   ]
  },
  {
   "cell_type": "code",
   "execution_count": null,
   "metadata": {},
   "outputs": [],
   "source": []
  },
  {
   "cell_type": "code",
   "execution_count": null,
   "metadata": {},
   "outputs": [],
   "source": [
    "x = 1\n",
    "sum = 0\n",
    "while x <= 10:\n",
    "    sum += x\n",
    "    x += 1\n",
    "print(sum)\n",
    "# Should print 55"
   ]
  },
  {
   "cell_type": "code",
   "execution_count": null,
   "metadata": {},
   "outputs": [],
   "source": [
    "def odd_numbers(maximum):\n",
    "    \n",
    "    return_string = \"\" # Initializes variable as a string\n",
    "\n",
    "    # Complete the for loop with a range that includes all \n",
    "    # odd numbers up to and including the \"maximum\" value.\n",
    "    for number in range(maximum): \n",
    "\n",
    "        # Complete the body of the loop by appending the odd number\n",
    "        # followed by a space to the \"return_string\" variable.\n",
    "        if number % 2 != 0:\n",
    "            return_string.append(number)  \n",
    "\n",
    "    # This .strip command will remove the final \" \" space \n",
    "    # at the end of the \"return_string\".\n",
    "    return return_string.strip()\n",
    "\n",
    "\n",
    "print(odd_numbers(6))  # Should be 1 3 5\n",
    "print(odd_numbers(10)) # Should be 1 3 5 7 9\n",
    "print(odd_numbers(1))  # Should be 1\n",
    "print(odd_numbers(3))  # Should be 1 3\n",
    "print(odd_numbers(0))  # No numbers displayed"
   ]
  },
  {
   "cell_type": "code",
   "execution_count": null,
   "metadata": {},
   "outputs": [],
   "source": [
    "import shutil \n",
    "du = shutil.disk_usage(\"/\")\n",
    "print(du)"
   ]
  },
  {
   "cell_type": "code",
   "execution_count": null,
   "metadata": {},
   "outputs": [],
   "source": [
    "años = ['ene 23', 'feb 24', 'mar 25', 'abr 24', 'may 24', 'jun 20', 'jul 24', 'ago 24', 'sep 45', 'oct 24', 'nov 25', 'dic 24']\n",
    "actualizados =  [año.replace('24','25') if año[-2:] == '24' else año for año in años]\n",
    "print(actualizados)"
   ]
  },
  {
   "cell_type": "code",
   "execution_count": null,
   "metadata": {},
   "outputs": [],
   "source": [
    "filenames = [\"program.c\", \"stdio.hpp\", \"sample.hpp\", \"a.out\", \"math.hpp\", \"hpp.out\"]\n",
    "# Generate new_filenames as a list containing the new filenames\n",
    "# using as many lines of code as your chosen method requires.\n",
    "\n",
    "\n",
    "new_filenames = []\n",
    "for filename in filenames:\n",
    "    if filename.endswith(\"hpp\"):\n",
    "        new_filenames.append (filename[:-2])\n",
    "    else:\n",
    "        new_filenames.append (filename)\n",
    "\n",
    "\n",
    "print(new_filenames)\n",
    "# Should be [\"program.c\", \"stdio.h\", \"sample.h\", \"a.out\", \"math.h\", \"hpp.out\"]"
   ]
  },
  {
   "cell_type": "code",
   "execution_count": 4,
   "metadata": {},
   "outputs": [
    {
     "name": "stdout",
     "output_type": "stream",
     "text": [
      "ellohay owhay reaay ouyay\n",
      "rogrammingpay niay ythonpay siay unfay\n"
     ]
    }
   ],
   "source": [
    "def pig_latin(text): #? corregir!!\n",
    "  say = \"\"\n",
    "  # Separate the text into words\n",
    "  words = text.split()\n",
    "  pigwords = []\n",
    "  for word in words:\n",
    "    latin_word = word[1:] + word[0] + 'ay'\n",
    "    # Create the pig latin word and add it to the list\n",
    "    pigwords.append(latin_word)\n",
    "    # Turn the list back into a phrase\n",
    "    say = ' '.join(pigwords)\n",
    "  return say\n",
    "    \n",
    "print(pig_latin(\"hello how are you\")) # Should be \"ellohay owhay reaay ouyay\"\n",
    "print(pig_latin(\"programming in python is fun\")) # Should be \"rogrammingpay niay ythonpay siay unfay\""
   ]
  },
  {
   "cell_type": "code",
   "execution_count": 6,
   "metadata": {},
   "outputs": [
    {
     "data": {
      "text/plain": [
       "{'h': 1, 'o': 1, 's': 3, 't': 1, 'i': 1, 'f': 3, 'g': 3, 'd': 2, 'a': 1}"
      ]
     },
     "execution_count": 6,
     "metadata": {},
     "output_type": "execute_result"
    }
   ],
   "source": [
    "def count_letters(text):\n",
    "    result = {}\n",
    "    for letter in text:\n",
    "        if letter not in result:\n",
    "            result[letter] = 0\n",
    "        result[letter] += 1\n",
    "    return result\n",
    "\n",
    "count_letters('hostifgdfgsdfgas')"
   ]
  },
  {
   "cell_type": "code",
   "execution_count": 7,
   "metadata": {},
   "outputs": [
    {
     "name": "stdout",
     "output_type": "stream",
     "text": [
      "banasna is not found in the dictionary\n"
     ]
    }
   ],
   "source": [
    "# Check if a key exists in the dictionary and perform different actions based on the result\n",
    "myDictionary = {'apple': 1, 'banana': 2, 'orange': 3}\n",
    "key = 'banasna'\n",
    "if key in myDictionary:\n",
    "\tprint(f\"The value of {key} is {myDictionary[key]}\")\n",
    "else:\n",
    "\tprint(f\"{key} is not found in the dictionary\")"
   ]
  },
  {
   "cell_type": "code",
   "execution_count": null,
   "metadata": {},
   "outputs": [],
   "source": []
  },
  {
   "cell_type": "code",
   "execution_count": 8,
   "metadata": {},
   "outputs": [
    {
     "name": "stdout",
     "output_type": "stream",
     "text": [
      "['clark.kent@gmail.com', 'diana.prince@gmail.com', 'peter.parker@gmail.com', 'barbara.gordon@yahoo.com', 'jean.grey@yahoo.com', 'bruce.wayne@hotmail.com']\n"
     ]
    }
   ],
   "source": [
    "def email_list(domains):\n",
    "    emails = []\n",
    "    for domain, users in domains.items():\n",
    "        for user in users:\n",
    "            emails.append(user + \"@\" + domain)\n",
    "    return emails\n",
    "\n",
    "print(email_list({\"gmail.com\": [\"clark.kent\", \"diana.prince\", \"peter.parker\"], \"yahoo.com\": [\"barbara.gordon\", \"jean.grey\"], \"hotmail.com\": [\"bruce.wayne\"]}))"
   ]
  },
  {
   "cell_type": "code",
   "execution_count": 9,
   "metadata": {},
   "outputs": [
    {
     "name": "stdout",
     "output_type": "stream",
     "text": [
      "['rock', 'pop', 'country', 'blues']\n"
     ]
    }
   ],
   "source": [
    "music_genres = [\"rock\", \"pop\", \"country\"]\n",
    "music_genres.append(\"blues\")\n",
    "print(music_genres)"
   ]
  },
  {
   "cell_type": "code",
   "execution_count": 10,
   "metadata": {},
   "outputs": [],
   "source": [
    "with open ('mierlistado.txt', 'w') as file:\n",
    "    listado = ['putas', 'lumis', 'perras', 'zorras', 'guarras']\n",
    "    for i in listado:\n",
    "        file.write(i + '\\n')\n"
   ]
  },
  {
   "cell_type": "code",
   "execution_count": 11,
   "metadata": {},
   "outputs": [
    {
     "ename": "FileNotFoundError",
     "evalue": "[WinError 2] The system cannot find the file specified: 'verga2.txt'",
     "output_type": "error",
     "traceback": [
      "\u001b[31m---------------------------------------------------------------------------\u001b[39m",
      "\u001b[31mFileNotFoundError\u001b[39m                         Traceback (most recent call last)",
      "\u001b[36mCell\u001b[39m\u001b[36m \u001b[39m\u001b[32mIn[11]\u001b[39m\u001b[32m, line 2\u001b[39m\n\u001b[32m      1\u001b[39m \u001b[38;5;28;01mimport\u001b[39;00m\u001b[38;5;250m \u001b[39m\u001b[34;01mos\u001b[39;00m\n\u001b[32m----> \u001b[39m\u001b[32m2\u001b[39m \u001b[43mos\u001b[49m\u001b[43m.\u001b[49m\u001b[43mpath\u001b[49m\u001b[43m.\u001b[49m\u001b[43mgetmtime\u001b[49m\u001b[43m(\u001b[49m\u001b[33;43m'\u001b[39;49m\u001b[33;43mverga2.txt\u001b[39;49m\u001b[33;43m'\u001b[39;49m\u001b[43m)\u001b[49m\n",
      "\u001b[36mFile \u001b[39m\u001b[32m<frozen genericpath>:91\u001b[39m, in \u001b[36mgetmtime\u001b[39m\u001b[34m(filename)\u001b[39m\n",
      "\u001b[31mFileNotFoundError\u001b[39m: [WinError 2] The system cannot find the file specified: 'verga2.txt'"
     ]
    }
   ],
   "source": [
    "import os\n",
    "os.path.getmtime('verga2.txt')"
   ]
  },
  {
   "cell_type": "code",
   "execution_count": null,
   "metadata": {},
   "outputs": [
    {
     "data": {
      "text/plain": [
       "datetime.datetime(2025, 3, 28, 14, 17, 12, 303647)"
      ]
     },
     "execution_count": 11,
     "metadata": {},
     "output_type": "execute_result"
    }
   ],
   "source": [
    "import datetime\n",
    "timestamp = os.path.getmtime('verga2.txt')\n",
    "datetime.datetime.fromtimestamp(timestamp)"
   ]
  },
  {
   "cell_type": "code",
   "execution_count": 12,
   "metadata": {},
   "outputs": [
    {
     "data": {
      "text/plain": [
       "'c:\\\\Users\\\\Admin\\\\Desktop\\\\practicas_python\\\\verga2.txt'"
      ]
     },
     "execution_count": 12,
     "metadata": {},
     "output_type": "execute_result"
    }
   ],
   "source": [
    "os.path.abspath('verga2.txt')"
   ]
  },
  {
   "cell_type": "code",
   "execution_count": 13,
   "metadata": {},
   "outputs": [
    {
     "ename": "FileNotFoundError",
     "evalue": "[WinError 2] The system cannot find the file specified: 'verga2.txt' -> 'pollardo\\\\verga2.txt'",
     "output_type": "error",
     "traceback": [
      "\u001b[31m---------------------------------------------------------------------------\u001b[39m",
      "\u001b[31mFileNotFoundError\u001b[39m                         Traceback (most recent call last)",
      "\u001b[36mCell\u001b[39m\u001b[36m \u001b[39m\u001b[32mIn[13]\u001b[39m\u001b[32m, line 9\u001b[39m\n\u001b[32m      7\u001b[39m src_file = Path(\u001b[33m'\u001b[39m\u001b[33m./verga2.txt\u001b[39m\u001b[33m'\u001b[39m)\n\u001b[32m      8\u001b[39m dest_file = dest_dir / \u001b[33m'\u001b[39m\u001b[33mverga2.txt\u001b[39m\u001b[33m'\u001b[39m\n\u001b[32m----> \u001b[39m\u001b[32m9\u001b[39m \u001b[43msrc_file\u001b[49m\u001b[43m.\u001b[49m\u001b[43mrename\u001b[49m\u001b[43m(\u001b[49m\u001b[43mdest_file\u001b[49m\u001b[43m)\u001b[49m\n",
      "\u001b[36mFile \u001b[39m\u001b[32mc:\\Users\\Admin\\.conda\\envs\\Entorno_\\Lib\\pathlib\\_local.py:767\u001b[39m, in \u001b[36mPath.rename\u001b[39m\u001b[34m(self, target)\u001b[39m\n\u001b[32m    757\u001b[39m \u001b[38;5;28;01mdef\u001b[39;00m\u001b[38;5;250m \u001b[39m\u001b[34mrename\u001b[39m(\u001b[38;5;28mself\u001b[39m, target):\n\u001b[32m    758\u001b[39m \u001b[38;5;250m    \u001b[39m\u001b[33;03m\"\"\"\u001b[39;00m\n\u001b[32m    759\u001b[39m \u001b[33;03m    Rename this path to the target path.\u001b[39;00m\n\u001b[32m    760\u001b[39m \n\u001b[32m   (...)\u001b[39m\u001b[32m    765\u001b[39m \u001b[33;03m    Returns the new Path instance pointing to the target path.\u001b[39;00m\n\u001b[32m    766\u001b[39m \u001b[33;03m    \"\"\"\u001b[39;00m\n\u001b[32m--> \u001b[39m\u001b[32m767\u001b[39m     \u001b[43mos\u001b[49m\u001b[43m.\u001b[49m\u001b[43mrename\u001b[49m\u001b[43m(\u001b[49m\u001b[38;5;28;43mself\u001b[39;49m\u001b[43m,\u001b[49m\u001b[43m \u001b[49m\u001b[43mtarget\u001b[49m\u001b[43m)\u001b[49m\n\u001b[32m    768\u001b[39m     \u001b[38;5;28;01mreturn\u001b[39;00m \u001b[38;5;28mself\u001b[39m.with_segments(target)\n",
      "\u001b[31mFileNotFoundError\u001b[39m: [WinError 2] The system cannot find the file specified: 'verga2.txt' -> 'pollardo\\\\verga2.txt'"
     ]
    }
   ],
   "source": [
    "from pathlib import Path\n",
    "\n",
    "dest_dir = Path('./pollardo')\n",
    "if not dest_dir.exists():\n",
    "    dest_dir.mkdir()\n",
    "\n",
    "src_file = Path('./verga2.txt')\n",
    "dest_file = dest_dir / 'verga2.txt'\n",
    "src_file.rename(dest_file)"
   ]
  },
  {
   "cell_type": "code",
   "execution_count": 14,
   "metadata": {},
   "outputs": [
    {
     "name": "stdout",
     "output_type": "stream",
     "text": [
      "Objetivo0 Numeración: X: X, Y: Y, Z: Z\n",
      "Objetivo1 SC-4003: X: 413315, Y: 4390721, Z: 25\n",
      "Objetivo2 SC-1001: X: 412711, Y: 4387557, Z: 46\n",
      "Objetivo3 SC-1001: X: 412339, Y: 4393564, Z: 232\n",
      "Objetivo4 SC-4011: X: 411297, Y: 4396353, Z: 19\n",
      "Objetivo5 SC-3001: X: 411234, Y: 4395069, Z: 103\n",
      "Objetivo6 SC-1003: X: 412649, Y: 4394067, Z: 193\n",
      "Objetivo7 SC-1004: X: 411941, Y: 4394987, Z: 155\n",
      "Objetivo8 SC-3002: X: 411125, Y: 4396439, Z: -18\n",
      "Objetivo9 SC-1002: X: 412621, Y: 4394046, Z: 189\n",
      "Objetivo10 SC-3003: X: 411097, Y: 4396437, Z: -18\n",
      "Objetivo11 SC-3000: X: 411259, Y: 4395087, Z: 107\n",
      "Objetivo12 SC-3005: X: 411984, Y: 4396495, Z: 16\n",
      "Objetivo13 SC-4003: X: 413315, Y: 4390721, Z: 25\n",
      "Objetivo14 SC-1001: X: 412339, Y: 4393564, Z: 232\n",
      "Objetivo15 SC-4011: X: 411297, Y: 4396353, Z: 19\n",
      "Objetivo16 SC-3006: X: 411241, Y: 4395083, Z: 102\n"
     ]
    }
   ],
   "source": [
    "import csv \n",
    "\n",
    "try:\n",
    "    f = open('OBJ.txt', encoding='utf-8')\n",
    "    csv_f = csv.reader(f)\n",
    "    i = 0  # Initialize i outside the loop\n",
    "    for row in csv_f:  # Fix the for loop syntax\n",
    "        numeración, x, y, z = row\n",
    "        print('Objetivo' +str(i) +' {}: X: {}, Y: {}, Z: {}'.format(numeración, x, y, z))  # Remove i from the print statement\n",
    "        i += 1\n",
    "    f.close()\n",
    "except FileNotFoundError:\n",
    "    print(\"File not found.\")\n",
    "    \n",
    "    "
   ]
  },
  {
   "cell_type": "code",
   "execution_count": 15,
   "metadata": {},
   "outputs": [],
   "source": [
    "hosts = [['pollaitor', '192.168.25.36'], ['servidor.de.mierda', '10.2.5.6']]\n",
    "with open('host.csv', 'w') as host_csv:\n",
    "    writer = csv.writer(host_csv)\n",
    "    writer.writerows(hosts)"
   ]
  },
  {
   "cell_type": "code",
   "execution_count": 16,
   "metadata": {},
   "outputs": [],
   "source": [
    "users = [ {\"name\": \"Sol Mansi\", \"username\": \"solm\", \"department\": \"IT infrastructure\"}, \n",
    " {\"name\": \"Lio Nelson\", \"username\": \"lion\", \"department\": \"User Experience Research\"}, \n",
    "  {\"name\": \"Charlie Grey\", \"username\": \"greyc\", \"department\": \"Development\"}]\n",
    "keys = [\"name\", \"username\", \"department\"]\n",
    "with open('by_deparment.csv','w') as ordenado_dpto:\n",
    "    writer = csv.DictWriter(ordenado_dpto, fieldnames = keys)\n",
    "    writer.writeheader()\n",
    "    writer.writerows(users)\n",
    "  "
   ]
  },
  {
   "cell_type": "code",
   "execution_count": 17,
   "metadata": {},
   "outputs": [
    {
     "name": "stdout",
     "output_type": "stream",
     "text": [
      "Mailtree has 324 users, being given it is on production status on version  5.34 as today\n",
      "Caldoor has 22 users, being given it is on beta status on version  1.25 as today\n",
      "Chatty Chicken has 4 users, being given it is on alpha status on version  0.34 as today\n"
     ]
    }
   ],
   "source": [
    "import csv\n",
    "\n",
    "with open('software.csv') as software:\n",
    "    reader = csv.DictReader(software)\n",
    "    for row in reader:\n",
    "        print('{} has {} users, being given it is on {} status on version  {} as today'.format(row['name'], row['users'], row['status'], row['version']))\n",
    "        "
   ]
  },
  {
   "cell_type": "code",
   "execution_count": 18,
   "metadata": {},
   "outputs": [
    {
     "name": "stdout",
     "output_type": "stream",
     "text": [
      "a carnation pink is annual\n",
      "a daffodil yellow is perennial\n",
      "a iris blue is perennial\n",
      "a poinsettia red is perennial\n",
      "a sunflower yellow is annual\n",
      "\n"
     ]
    }
   ],
   "source": [
    "import os\n",
    "import csv\n",
    "\n",
    "# Create a file with data in it\n",
    "def create_file(filename):\n",
    "  with open(filename, \"w\") as file:\n",
    "    file.write(\"name,color,type\\n\")\n",
    "    file.write(\"carnation,pink,annual\\n\")\n",
    "    file.write(\"daffodil,yellow,perennial\\n\")\n",
    "    file.write(\"iris,blue,perennial\\n\")\n",
    "    file.write(\"poinsettia,red,perennial\\n\")\n",
    "    file.write(\"sunflower,yellow,annual\\n\")\n",
    "\n",
    "# Read the file contents and format the information about each row\n",
    "def contents_of_file(filename):\n",
    "  return_string = \"\"\n",
    "\n",
    "  # Call the function to create the file \n",
    "  create_file(filename)\n",
    "\n",
    "  # Open the file\n",
    "  with open (filename) as archivo:\n",
    "    # Read the rows of the file\n",
    "    rows = csv.reader(archivo)\n",
    "    next(rows)  # Skip the header row\n",
    "    # Process each row\n",
    "    for row in rows:\n",
    "      name, color, season = row\n",
    "      # Format the return string for data rows only\n",
    "\n",
    "      return_string += \"a {} {} is {}\\n\".format(name, color, season)\n",
    "  return return_string\n",
    "\n",
    "#Call the function\n",
    "print(contents_of_file(\"flowers.csv\"))"
   ]
  },
  {
   "cell_type": "code",
   "execution_count": 21,
   "metadata": {},
   "outputs": [
    {
     "name": "stdout",
     "output_type": "stream",
     "text": [
      "[4, 16, 36, 64, 100]\n"
     ]
    }
   ],
   "source": [
    "cuadrados_pares = [x**2 for x in range(1,11) if x % 2 ==0]\n",
    "print(cuadrados_pares)"
   ]
  },
  {
   "cell_type": "code",
   "execution_count": 22,
   "metadata": {},
   "outputs": [
    {
     "name": "stdout",
     "output_type": "stream",
     "text": [
      "[1, 9, 25, 49, 81]\n"
     ]
    }
   ],
   "source": [
    "cuadrados_impares = []\n",
    "for x in range (1,11):\n",
    "    if x % 2 != 0:\n",
    "        cuadrados_impares.append(x**2)\n",
    "print(cuadrados_impares)"
   ]
  },
  {
   "cell_type": "code",
   "execution_count": 29,
   "metadata": {},
   "outputs": [
    {
     "name": "stdout",
     "output_type": "stream",
     "text": [
      "[1, 2, 3, 4, 5, 6, 7, 8, 9]\n"
     ]
    }
   ],
   "source": [
    "matriz = [[1,2,3],[4,5,6],[7,8,9]]\n",
    "plana = []\n",
    "for i in range (len(matriz)):\n",
    "    for j in range(len(matriz[i])):\n",
    "        plana.append (matriz[i][j])\n",
    "print(plana)\n"
   ]
  },
  {
   "cell_type": "code",
   "execution_count": 16,
   "metadata": {},
   "outputs": [
    {
     "name": "stdout",
     "output_type": "stream",
     "text": [
      "[1, 2, 3, 4, 5, 6, 7, 8, 9]\n"
     ]
    }
   ],
   "source": [
    "matriz = [[1,2,3],[4,5,6],[7,8,9]]\n",
    "plana = [num for fila in matriz for num in fila]\n",
    "print(plana)"
   ]
  },
  {
   "cell_type": "code",
   "execution_count": 14,
   "metadata": {},
   "outputs": [
    {
     "name": "stdout",
     "output_type": "stream",
     "text": [
      "['a', 'a', 'o', 'e', 'i', 'u', 'o', 'o', 'i', 'a', 'e', 'o', 'e', 'e', 'u', 'a', 'i', 'i', 'i', 'e', 'i']\n"
     ]
    }
   ],
   "source": [
    "cadena = \"AALorem ipsum dolor sit amet, consectetur adipiscing elit\"\n",
    "vocales = [ x for x in cadena.lower() if x in 'aeiou']\n",
    "print(vocales)"
   ]
  },
  {
   "cell_type": "code",
   "execution_count": 19,
   "metadata": {},
   "outputs": [
    {
     "name": "stdout",
     "output_type": "stream",
     "text": [
      "[32.0, 50.0, 68.0, 86.0, 104.0, 122.0]\n"
     ]
    }
   ],
   "source": [
    "celsious = [0, 10, 20, 30, 40, 50]\n",
    "fahrenheit = [(temp * 9/5)+32 for temp in celsious]\n",
    "print(fahrenheit)"
   ]
  },
  {
   "cell_type": "code",
   "execution_count": 29,
   "metadata": {},
   "outputs": [
    {
     "name": "stdout",
     "output_type": "stream",
     "text": [
      "[[1, 0, 0], [0, 1, 0], [0, 0, 1]]\n"
     ]
    }
   ],
   "source": [
    "matriz_identidad = [[1 if i == j else 0 for i in range (3)] for j in range (3)]\n",
    "print (matriz_identidad)"
   ]
  },
  {
   "cell_type": "code",
   "execution_count": 30,
   "metadata": {},
   "outputs": [
    {
     "name": "stdout",
     "output_type": "stream",
     "text": [
      "[1, 0, 0, 0, 0]\n",
      "[0, 1, 0, 0, 0]\n",
      "[0, 0, 1, 0, 0]\n",
      "[0, 0, 0, 1, 0]\n",
      "[0, 0, 0, 0, 1]\n"
     ]
    }
   ],
   "source": [
    "def matrix(x):\n",
    "    matriz_identidad = [[1 if i == j else 0 for i in range (x)] for j in range (x)]\n",
    "    for row in matriz_identidad:\n",
    "        print(row)\n",
    "matrix(5)\n"
   ]
  },
  {
   "cell_type": "code",
   "execution_count": 31,
   "metadata": {},
   "outputs": [
    {
     "name": "stdout",
     "output_type": "stream",
     "text": [
      "10\n",
      "10\n"
     ]
    }
   ],
   "source": [
    "def doble(x):\n",
    "    return x*2\n",
    "# equivale  en función lambda a:\n",
    "print(doble(5))\n",
    "dobleL = lambda x: x*2\n",
    "print(dobleL(5))"
   ]
  },
  {
   "cell_type": "code",
   "execution_count": 34,
   "metadata": {},
   "outputs": [
    {
     "name": "stdout",
     "output_type": "stream",
     "text": [
      "[1, 4, 9, 16, 25]\n"
     ]
    }
   ],
   "source": [
    "numeros = [1,2,3,4,5]\n",
    "def cuadrados(x):\n",
    "    return x**2\n",
    "resultado = map(cuadrados, numeros)\n",
    "print(list(resultado))"
   ]
  },
  {
   "cell_type": "code",
   "execution_count": 9,
   "metadata": {},
   "outputs": [
    {
     "name": "stdout",
     "output_type": "stream",
     "text": [
      "[1, 4, 9, 16, 25]\n"
     ]
    }
   ],
   "source": [
    "numeros = [1,2,3,4,5] #ahora lo intento con función Lambda\n",
    "resultado = list(map(lambda x: x**2, numeros))\n",
    "print(resultado)"
   ]
  },
  {
   "cell_type": "code",
   "execution_count": 19,
   "metadata": {},
   "outputs": [
    {
     "name": "stdout",
     "output_type": "stream",
     "text": [
      "La palabra buscada existe! Quién lo diría?\n",
      "pollón\n",
      "la palabra empieza en 143 y termina en 149\n",
      "3\n",
      "Tengo un gran problema desde que nací\n",
      "Y siempre lo llevo muy dentro de mí\n",
      "Es algo que abulta y que pesa un montón\n",
      "Es lo que se suele llamar un pollónnnnnnnnnnnnnnnnnnnn\n",
      "Deepthroat es lo que quiero\n",
      "Amor a un pollónnnnnnnnnnnnnnnnnnnn soltero\n",
      "[Puente]\n",
      "Amor a un pollónnnnnnnnnnnnnnnnnnnn soltero\n"
     ]
    }
   ],
   "source": [
    "import re\n",
    "pattern = 'pollón'\n",
    "text = '''Tengo un gran problema desde que nací\n",
    "Y siempre lo llevo muy dentro de mí\n",
    "Es algo que abulta y que pesa un montón\n",
    "Es lo que se suele llamar un pollón\n",
    "Deepthroat es lo que quiero\n",
    "Amor a un pollón soltero\n",
    "[Puente]\n",
    "Amor a un pollón soltero'''\n",
    "result = re.search(pattern, text)\n",
    "if result:\n",
    "    print('La palabra buscada existe! Quién lo diría?')\n",
    "else:\n",
    "    print('No existe la palabra buscada, pero no pasa nada')\n",
    "print(result.group())\n",
    "#print('está en la posición:' + str(result.start())+ ' hasta ' + str(result.end()))\n",
    "print(f'la palabra empieza en {result.start()} y termina en {result.end()}')\n",
    "matches = re.findall(pattern, text)\n",
    "print(len(matches))\n",
    "nuevo_texto = re.sub(pattern, 'pollónnnnnnnnnnnnnnnnnnnn', text, flags=re.IGNORECASE)\n",
    "print(nuevo_texto)\n"
   ]
  },
  {
   "cell_type": "code",
   "execution_count": 27,
   "metadata": {},
   "outputs": [
    {
     "name": "stdout",
     "output_type": "stream",
     "text": [
      "[' ', ' ', ' ', ' ', ' ', ' ', ' ', ' ', '\\n', ' ', ' ', ' ', ' ', ' ', ' ', ' ', '\\t']\n"
     ]
    }
   ],
   "source": [
    "texto = 'Libre, como aquel que huele a 1 cuero \\n yo soy libre, y vengo del mar\\t'\n",
    "import re\n",
    "pattern = r'\\s'\n",
    "found = re.findall(pattern, texto)\n",
    "print(found)"
   ]
  },
  {
   "cell_type": "code",
   "execution_count": 41,
   "metadata": {},
   "outputs": [
    {
     "name": "stdout",
     "output_type": "stream",
     "text": [
      "['dddd', 'aaa', '5532', 'ccc', 'bb', 'aa', 'casa']\n"
     ]
    }
   ],
   "source": [
    "text = 'dddd aaa 5532ccc a bb aa casa'\n",
    "import re\n",
    "pattern = r'\\w{2,4}'\n",
    "matches = re.findall(pattern,text)\n",
    "print(matches)"
   ]
  },
  {
   "cell_type": "code",
   "execution_count": 1,
   "metadata": {},
   "outputs": [
    {
     "name": "stdout",
     "output_type": "stream",
     "text": [
      "***función sumar ***\n"
     ]
    },
    {
     "name": "stdout",
     "output_type": "stream",
     "text": [
      " El resultado es, pedazo comepollas: 13\n"
     ]
    }
   ],
   "source": [
    "print('***función sumar ***')\n",
    "\n",
    "def sumar (a,b):\n",
    "    resultado_suma = a + b\n",
    "    return resultado_suma\n",
    "\n",
    "resultado_funcion = sumar(8,5)\n",
    "print(f' El resultado es, pedazo comepollas: {resultado_funcion}')"
   ]
  },
  {
   "cell_type": "code",
   "execution_count": 37,
   "metadata": {},
   "outputs": [
    {
     "name": "stdout",
     "output_type": "stream",
     "text": [
      "**GRRR**_Genérico_\n",
      "marramamiaumiaumiau\n"
     ]
    }
   ],
   "source": [
    "class Animal:\n",
    "    def comer(self):\n",
    "        print ('ñam ñam')\n",
    "    def dormir(self):\n",
    "        print ('zzZZzzZZ')\n",
    "    def sonido(self):\n",
    "        print('**GRRR**_Genérico_')\n",
    "class Perro(Animal):\n",
    "    def ladrar(self):\n",
    "        print ('guau guau BANG! argh..')\n",
    "    def dormir(self):\n",
    "        print('duermo como un PUTO perro cabrón')\n",
    "class Gato(Animal):\n",
    "    def sonido(self):\n",
    "        print('marramamiaumiaumiau')\n",
    "perro1 = Perro()\n",
    "gato1= Gato()\n",
    "#gato1.dormir()\n",
    "#gato1.sonido()\n",
    "#perro1.dormir()\n",
    "#perro1.sonido()\n",
    "\n",
    "# Función polimórfica... ahí va el engendro! (Duck typing)\n",
    "def sonido_monstruoso(bestia): #el parámetro de entrada es el objeto que determinará el comportamiento\n",
    "    bestia.sonido()\n",
    "monstruo1 = Animal()\n",
    "sonido_monstruoso(monstruo1)\n",
    "sonido_monstruoso(gato1)    \n"
   ]
  },
  {
   "cell_type": "code",
   "execution_count": 24,
   "metadata": {},
   "outputs": [
    {
     "name": "stdout",
     "output_type": "stream",
     "text": [
      "Persona:\n",
      "        nombre = Topot\n",
      "        apellido = Sama \n",
      "        dir_memo = <__main__.Persona object at 0x000001D8354B6270>\n"
     ]
    }
   ],
   "source": [
    "class Persona(object): #no es necesario, pero pongo de manera explícita que heredo de la clase padre de todos los padres\n",
    "    def __init__(self, nombre, apellido):\n",
    "        self.nombre= nombre\n",
    "        self.apellido =apellido\n",
    "    def __str__(self): #por defecto, escribe dirección de memoria, vamos a cambiarlo\n",
    "        return f'''Persona:\n",
    "        nombre = {self.nombre}\n",
    "        apellido = {self.apellido} \n",
    "        dir_memo = {super.__str__(self)}''' #aquí uso el STR de OBJECT, porque la palabra especial SUPER llama a lo anterior a la sobreescritura de ese método\n",
    "    \n",
    "persona1 = Persona('Topot', 'Sama')\n",
    "print(persona1)\n",
    "#print(persona1.__str__()) #así se llamaría de forma explícita, aunque no es necesario\n",
    "#persona1.__str__() #curioso que emprime el texto y las variables\n",
    "    "
   ]
  },
  {
   "cell_type": "code",
   "execution_count": 57,
   "metadata": {},
   "outputs": [
    {
     "name": "stdout",
     "output_type": "stream",
     "text": [
      "Orden número: 1\n",
      "        Computadoras: \n",
      "POLLOMETRO: 1\n",
      "        Monitor: Id: 1, Marca HijoPuta,Tamaño: 15\n",
      "        Teclado: Id: 1, Marca HP, Tipo Entrada: Ortoconectado\n",
      "        Raton: Id: 1, Marca: HP, Tipo Entrada: USB\n",
      "PisaPapelez: 2\n",
      "        Monitor: Id: 2, Marca Dell,Tamaño: 27\n",
      "        Teclado: Id: 2, Marca Razer, Tipo Entrada: BlueTooth\n",
      "        Raton: Id: 2, Marca: Logitech, Tipo Entrada: cable\n",
      "Niño RICO y gordo: 3\n",
      "        Monitor: Id: 3, Marca Apple,Tamaño: 40\n",
      "        Teclado: Id: 3, Marca Razer, Tipo Entrada: Firewire\n",
      "        Raton: Id: 3, Marca: Razer, Tipo Entrada: Wifi\n"
     ]
    }
   ],
   "source": [
    "class Dispositivo_entrada:\n",
    "    def __init__(self, marca, tipo_entrada):\n",
    "        self.marca = marca\n",
    "        self.tipo_entrada=tipo_entrada\n",
    "\n",
    "class Raton(Dispositivo_entrada):\n",
    "    contador_ratones = 0\n",
    "    def __init__(self, marca, tipo_entrada):\n",
    "        Raton.contador_ratones += 1\n",
    "        self.id_raton = Raton.contador_ratones\n",
    "        super().__init__(marca, tipo_entrada)\n",
    "        \n",
    "    def __str__(self):\n",
    "        return(f'Id: {self.id_raton}, Marca: {self.marca}, '\n",
    "               f'Tipo Entrada: {self.tipo_entrada}')\n",
    "class Teclado(Dispositivo_entrada):\n",
    "    contador_teclados = 0\n",
    "    def __init__(self, marca, tipo_entrada):\n",
    "        Teclado.contador_teclados += 1\n",
    "        self.id_teclado = Teclado.contador_teclados\n",
    "        super().__init__(marca, tipo_entrada)    \n",
    "    def __str__(self):\n",
    "        return(f'Id: {self.id_teclado}, Marca {self.marca}, '\n",
    "               f'Tipo Entrada: {self.tipo_entrada}')\n",
    "        \n",
    "class Monitor:\n",
    "    contador_monitores = 0\n",
    "    def __init__(self, marca, tamanio):\n",
    "        Monitor.contador_monitores +=1\n",
    "        self.id_monitor = Monitor.contador_monitores\n",
    "        self.marca = marca\n",
    "        self.tamanio = tamanio \n",
    "    def __str__(self):\n",
    "       return (f'Id: {self.id_monitor}, Marca {self.marca},' \n",
    "               f'Tamaño: {self.tamanio}' )\n",
    "       \n",
    " #RELACIÓN DE AGREGACIÓN PAPÁ      \n",
    "class Computadora:\n",
    "    contador_computadoras = 0\n",
    "    def __init__(self, nombre, monitor, teclado, raton):\n",
    "        Computadora.contador_computadoras += 1\n",
    "        self.id_computadora = Computadora.contador_computadoras\n",
    "        self.nombre = nombre\n",
    "        self.monitor = monitor\n",
    "        self.teclado = teclado\n",
    "        self.raton = raton\n",
    "    def __str__(self):\n",
    "        return f'''{self.nombre}: {self.id_computadora}\n",
    "        Monitor: {self.monitor}\n",
    "        Teclado: {self.teclado}\n",
    "        Raton: {self.raton}'''\n",
    "        \n",
    "class Orden:\n",
    "    contador_ordenes = 0\n",
    "    def __init__(self, lista_computadoras):\n",
    "        Orden.contador_ordenes += 1\n",
    "        self.id_orden = Orden.contador_ordenes\n",
    "        self.computadoras = lista_computadoras\n",
    "    def agregar(self, computadora):\n",
    "        self.computadoras.append(computadora)\n",
    "    def __str__(self):\n",
    "        computadoras_str=''\n",
    "        for computadora in self.computadoras:\n",
    "            computadoras_str += '\\n' + computadora.__str__()\n",
    "        return f'''Orden número: {self.id_orden}\n",
    "        Computadoras: {computadoras_str}'''\n",
    "        \n",
    "raton1 = Raton('HP', 'USB')\n",
    "raton2 = Raton('Logitech', 'cable')\n",
    "teclado1 = Teclado('HP', 'Ortoconectado')\n",
    "teclado2 = Teclado('Razer', 'BlueTooth')\n",
    "monitor1 = Monitor('HijoPuta',15)\n",
    "monitor2 = Monitor('Dell',27)\n",
    "computadora1 = Computadora('POLLOMETRO', monitor1,teclado1,raton1)\n",
    "computadora2 = Computadora('PisaPapelez', monitor2,teclado2,raton2)\n",
    "lista_puta_y_doras = [computadora1, computadora2]\n",
    "orden1= Orden(lista_puta_y_doras)\n",
    "#print(orden1)\n",
    "raton3 =Raton('Razer', 'Wifi')\n",
    "teclado3 = Teclado('Razer', 'Firewire')\n",
    "monitor3 =Monitor('Apple', 40)\n",
    "computadora3 = Computadora('Niño RICO y gordo', monitor3,teclado3,raton3)\n",
    "orden1.agregar(computadora3)\n",
    "print(orden1)"
   ]
  },
  {
   "cell_type": "code",
   "execution_count": 1,
   "metadata": {},
   "outputs": [
    {
     "name": "stdout",
     "output_type": "stream",
     "text": [
      "La cagaste, has hecho: division by zero\n"
     ]
    }
   ],
   "source": [
    "try:\n",
    "    10/0\n",
    "except Exception as e: #Exception es clase padre de Division, cogerá ese objeto hijo\n",
    "    print(f'La cagaste, has hecho: {e}')"
   ]
  },
  {
   "cell_type": "code",
   "execution_count": 2,
   "metadata": {},
   "outputs": [
    {
     "name": "stdout",
     "output_type": "stream",
     "text": [
      "Pero cacho inutil, otra vez has hecho: division by zero\n",
      " El resultado es None\n",
      " porque la has cagado.\n"
     ]
    }
   ],
   "source": [
    "resultado = None #no es necesario, pero lo pongo para ver como no se asigna  el resultado a algo que da error\n",
    "a,b = 10,0\n",
    "try:\n",
    "    resultado = a/b\n",
    "except Exception as cagada:\n",
    "    print(f'Pero cacho inutil, otra vez has hecho: {cagada}')\n",
    "    \n",
    "print (f' El resultado es {resultado}')\n",
    "if resultado == None:\n",
    "    print(' porque la has cagado.')"
   ]
  },
  {
   "cell_type": "code",
   "execution_count": 7,
   "metadata": {},
   "outputs": [
    {
     "name": "stdout",
     "output_type": "stream",
     "text": [
      "<re.Match object; span=(0, 6), match='Python'>\n"
     ]
    }
   ],
   "source": [
    "import re\n",
    "print(re.search(r'[Pp]ython', 'Python es un lenguaje de programación Python'))"
   ]
  },
  {
   "cell_type": "code",
   "execution_count": 14,
   "metadata": {},
   "outputs": [
    {
     "name": "stdout",
     "output_type": "stream",
     "text": [
      "None\n"
     ]
    }
   ],
   "source": [
    "import re\n",
    "print(re.search(r'[^a-zA-Z ]', 'Vete amamarla'))"
   ]
  },
  {
   "cell_type": "code",
   "execution_count": 1,
   "metadata": {},
   "outputs": [
    {
     "name": "stdout",
     "output_type": "stream",
     "text": [
      "['vergas', 'pollas']\n"
     ]
    }
   ],
   "source": [
    "import re\n",
    "print(re.findall(r'vergas|pollas', 'me gustan las vergas y las pollas'))"
   ]
  },
  {
   "cell_type": "code",
   "execution_count": null,
   "metadata": {},
   "outputs": [],
   "source": [
    "import re\n",
    "result = re.search(r'^\\w*), (\\w*)')"
   ]
  }
 ],
 "metadata": {
  "kernelspec": {
   "display_name": "Entorno_",
   "language": "python",
   "name": "python3"
  },
  "language_info": {
   "codemirror_mode": {
    "name": "ipython",
    "version": 3
   },
   "file_extension": ".py",
   "mimetype": "text/x-python",
   "name": "python",
   "nbconvert_exporter": "python",
   "pygments_lexer": "ipython3",
   "version": "3.13.2"
  }
 },
 "nbformat": 4,
 "nbformat_minor": 2
}
